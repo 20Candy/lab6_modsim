{
 "cells": [
  {
   "cell_type": "markdown",
   "metadata": {},
   "source": [
    "### Laboratorio 6 - Ejercicio 1\n",
    "Stefano Aragoni, Carol Arévalo, Luis Santos, Diego Perdomo\n",
    "\n",
    "-----------"
   ]
  },
  {
   "cell_type": "markdown",
   "metadata": {},
   "source": [
    "`Ejercicio 1`\n",
    "\n",
    "Cree un programa en Python (o en el lenguaje de su preferencia) para modelar la distribución de temperatura dentro\n",
    "de una varilla sólida. Utilice modelado secuencial multiescala, donde <font color=orange>combina un modelo macroscópico y un\n",
    "modelo microscópico</font>. Suponga que la varilla consta de dos materiales diferentes con diferentes conductividades\n",
    "térmicas. Considere los siguientes pasos propuestos"
   ]
  },
  {
   "cell_type": "markdown",
   "metadata": {},
   "source": [
    "1. Cree una función que calcule la distribución de temperatura dentro de la varilla a lo largo del tiempo utilizando un modelo macroscópico.\n",
    "\n",
    "Como primer paso, se le pidió a Bing Chat que desarrollara esta función. Para esto, se le dio las siguientes instrucciones:\n",
    "\n",
    "<font color=lightblue>\n",
    "\n",
    "- Crea una función que calcule la distribución de temperatura dentro de la varilla a lo largo del tiempo utilizando un modelo macroscópico. Para esto considera lo siguiente:    \n",
    "    - La varilla es de 10cm; los 5cm de la derecha son de un material, y los 5cm de la izquierda son de otro material.\n",
    "    - Al lado izquierdo de la varilla se le aplica una temperatura de 0°C, y al lado derecho de la varilla se le aplica una temperatura de 100°C.\n",
    "    - No hay fuentes de calor dentro de la varilla.\n",
    "</font>\n",
    "\n",
    "Con este promt, Bing Chat desarrolló el siguiente código a la primera. No fue necesario hacer repregutnas debido a la claridad de las instrucciones iniciales.\n",
    "\n",
    "*En la carpeta screens está el screenshot de la conversación con Bing Chat (E1_1.png)*"
   ]
  },
  {
   "cell_type": "code",
   "execution_count": 63,
   "metadata": {},
   "outputs": [],
   "source": [
    "# Importar las bibliotecas necesarias\n",
    "import numpy as np\n",
    "import matplotlib.pyplot as plt\n",
    "from IPython.display import display, Image as IPImage\n",
    "\n",
    "# Parámetros del problema\n",
    "L = 100.0                        # Longitud total de la varilla (en cm)\n",
    "N = 100                         # Número de puntos en la discretización espacial\n",
    "dx = L / N                      # Tamaño del paso espacial\n",
    "dt = 0.01                       # Tamaño del paso temporal\n",
    "T_left = 0.0                   # Temperatura en el extremo izquierdo (en °C)\n",
    "T_right = 100.0                 # Temperatura en el extremo derecho (en °C)\n",
    "t_max = 5.0                     # Tiempo máximo de simulación (en segundos)\n",
    "\n",
    "# Conductividades térmicas de los materiales\n",
    "k_material1 = 0.5\n",
    "k_material2 = 1.0\n",
    "\n",
    "# Inicialización de la distribución de temperatura\n",
    "T = np.zeros(N)\n",
    "T[:N//2] = T_left               # Material 1\n",
    "T[N//2:] = T_left               # Material 2"
   ]
  },
  {
   "cell_type": "code",
   "execution_count": 64,
   "metadata": {},
   "outputs": [],
   "source": [
    "# Modelo macroscópico\n",
    "def macroscopic_model(T, k_material1, k_material2):\n",
    "    T_new = np.copy(T)\n",
    "    alpha1 = k_material1 / (dx ** 2)\n",
    "    alpha2 = k_material2 / (dx ** 2)\n",
    "    \n",
    "    for i in range(1, N - 1):\n",
    "        if i < N // 2:\n",
    "            T_new[i] = T[i] + alpha1 * (T[i + 1] - 2 * T[i] + T[i - 1]) * dt\n",
    "        else:\n",
    "            T_new[i] = T[i] + alpha2 * (T[i + 1] - 2 * T[i] + T[i - 1]) * dt\n",
    "    \n",
    "    return T_new"
   ]
  },
  {
   "cell_type": "markdown",
   "metadata": {},
   "source": [
    "2. Cree una función que calcule la distribución de temperatura dentro de la varilla a lo largo del tiempo\n",
    "utilizando un modelo microscópico."
   ]
  },
  {
   "cell_type": "code",
   "execution_count": 65,
   "metadata": {},
   "outputs": [],
   "source": [
    "# Modelo microscópico utilizando Monte Carlo\n",
    "def microscopic_model(T, k_material1, k_material2):\n",
    "    T_new = np.copy(T)\n",
    "    alpha1 = k_material1 / (dx ** 2)\n",
    "    alpha2 = k_material2 / (dx ** 2)\n",
    "    \n",
    "    for i in range(1, N - 1):\n",
    "        if i < N // 2:\n",
    "            for _ in range(100):\n",
    "                j = np.random.randint(1, N - 1)\n",
    "                T_new[j] = T_new[j] + alpha1 * (T_new[j + 1] - 2 * T_new[j] + T_new[j - 1]) * dt / 100\n",
    "        else:\n",
    "            for _ in range(100):\n",
    "                j = np.random.randint(1, N - 1)\n",
    "                T_new[j] = T_new[j] + alpha2 * (T_new[j + 1] - 2 * T_new[j] + T_new[j - 1]) * dt / 100\n",
    "    \n",
    "    return T_new"
   ]
  },
  {
   "cell_type": "markdown",
   "metadata": {},
   "source": [
    "3. Combine ambos modelos para implementar un enfoque de modelado secuencial de múltiples escalas, donde el modelo macroscópico proporciona condiciones de contorno para el modelo microscópico."
   ]
  },
  {
   "cell_type": "code",
   "execution_count": 70,
   "metadata": {},
   "outputs": [],
   "source": [
    "# Simulación y visualización\n",
    "def sec_multiescala(T):\n",
    "    time_steps = int(t_max / dt)\n",
    "    historial = [np.copy(T)]\n",
    "\n",
    "    for _ in range(time_steps):\n",
    "        T = macroscopic_model(T, k_material1, k_material2)\n",
    "        T = microscopic_model(T, k_material1, k_material2)\n",
    "\n",
    "        # Guardar el estado actual de la simulación\n",
    "        historial.append(np.copy(T))\n",
    "\n",
    "    return historial\n"
   ]
  },
  {
   "cell_type": "markdown",
   "metadata": {},
   "source": [
    "4. Simule y visualice la distribución de temperatura dentro de la varilla durante un período de tiempo\n",
    "determinado."
   ]
  },
  {
   "cell_type": "code",
   "execution_count": 71,
   "metadata": {},
   "outputs": [],
   "source": [
    "historial = sec_multiescala(T)\n",
    "list_images = []\n",
    "\n",
    "for i, t2 in enumerate(historial):\n",
    "    plt.figure(figsize=(10, 4))\n",
    "    x = np.linspace(0, L, N)\n",
    "    plt.plot(x, t2)\n",
    "    plt.xlabel('Posición (cm)')\n",
    "    plt.ylabel('Temperatura (°C)')\n",
    "    plt.title('Distribución de Temperatura en la Varilla')\n",
    "    plt.grid(True)\n",
    "\n",
    "    name = \"eje1_fotos_gif/\" + str(i) + \".jpg\"\n",
    "\n",
    "    # Guardar la figura en un archivo\n",
    "    plt.savefig(name, format=\"jpg\")\n",
    "    plt.close()\n",
    "    list_images.append(name)\n",
    "\n",
    "# Crear el GIF\n",
    "images = [Image.open(path) for path in list_images]\n",
    "images[0].save('ejercicio1.gif', save_all=True, append_images=images[1:], loop=0, duration=200)\n",
    "\n",
    "# Mostrar el GIF\n",
    "display(IPImage(\"predator_prey_simulation.gif\"))"
   ]
  }
 ],
 "metadata": {
  "kernelspec": {
   "display_name": "Python 3",
   "language": "python",
   "name": "python3"
  },
  "language_info": {
   "codemirror_mode": {
    "name": "ipython",
    "version": 3
   },
   "file_extension": ".py",
   "mimetype": "text/x-python",
   "name": "python",
   "nbconvert_exporter": "python",
   "pygments_lexer": "ipython3",
   "version": "3.9.2"
  },
  "orig_nbformat": 4
 },
 "nbformat": 4,
 "nbformat_minor": 2
}
