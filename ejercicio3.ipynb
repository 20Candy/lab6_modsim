{
 "cells": [
  {
   "cell_type": "markdown",
   "metadata": {},
   "source": [
    "### Laboratorio 6 - Ejercicio 3\n",
    "Stefano Aragoni, Carol Arévalo, Luis Santos, Diego Perdomo\n",
    "\n",
    "-----------"
   ]
  },
  {
   "cell_type": "markdown",
   "metadata": {},
   "source": [
    "`Ejercicio 3`\n",
    "\n",
    "Tiene la tarea de modelar el crecimiento de la población en múltiples escalas, desde organismos individuales hasta la población global. Para esto debe implementar un modelo multiescala en Python para analizar el crecimiento poblacional y su impacto"
   ]
  },
  {
   "cell_type": "markdown",
   "metadata": {},
   "source": [
    "-----------\n",
    "\n",
    "##### **Modelación**\n",
    "\n",
    "Modelo Multiescala Simple para el Crecimiento Poblacional:\n",
    "\n",
    "Nivel individual: Cada individuo tiene una probabilidad de reproducción y una probabilidad de mortalidad basadas en su edad.\n",
    "\n",
    "Nivel de comunidad local: La tasa de reproducción se ajusta según la densidad poblacional.\n",
    "\n",
    "Nivel global: Se ajustan las tasas de crecimiento según las migraciones."
   ]
  },
  {
   "cell_type": "code",
   "execution_count": 1,
   "metadata": {},
   "outputs": [
    {
     "name": "stdout",
     "output_type": "stream",
     "text": [
      "Año 1: Población total = 284\n",
      "Año 2: Población total = 221\n",
      "Año 3: Población total = 202\n",
      "Año 4: Población total = 205\n",
      "Año 5: Población total = 217\n",
      "Año 6: Población total = 230\n",
      "Año 7: Población total = 252\n",
      "Año 8: Población total = 269\n",
      "Año 9: Población total = 277\n",
      "Año 10: Población total = 295\n"
     ]
    }
   ],
   "source": [
    "import random\n",
    "\n",
    "class Individuo:\n",
    "    def __init__(self, edad):\n",
    "        self.edad = edad\n",
    "\n",
    "    def reproducir(self):\n",
    "        # Probabilidad de reproducción disminuye con la edad\n",
    "        prob_reproduccion = max(0.2 - self.edad * 0.01, 0.05)\n",
    "        return random.random() < prob_reproduccion\n",
    "\n",
    "    def morir(self):\n",
    "        # Probabilidad de mortalidad aumenta con la edad\n",
    "        prob_mortalidad = self.edad * 0.02\n",
    "        return random.random() < prob_mortalidad\n",
    "\n",
    "    def envejecer(self):\n",
    "        self.edad += 1\n",
    "\n",
    "class Comunidad:\n",
    "    def __init__(self, poblacion_inicial):\n",
    "        self.individuos = [Individuo(random.randint(0, 50)) for _ in range(poblacion_inicial)]\n",
    "\n",
    "    def paso_temporal(self):\n",
    "        # Nivel individual\n",
    "        nuevos_individuos = []\n",
    "        for individuo in self.individuos:\n",
    "            individuo.envejecer()\n",
    "            if individuo.reproducir():\n",
    "                nuevos_individuos.append(Individuo(0))\n",
    "            if not individuo.morir():\n",
    "                nuevos_individuos.append(individuo)\n",
    "        self.individuos = nuevos_individuos\n",
    "\n",
    "        # Nivel de comunidad local\n",
    "        if len(self.individuos) > 1000:\n",
    "            # Reducir la tasa de reproducción si la población es muy alta\n",
    "            self.individuos = random.sample(self.individuos, int(len(self.individuos) * 0.9))\n",
    "\n",
    "        # Nivel global (simplificado)\n",
    "        # Supongamos que hay una migración neta de 10 individuos cada año\n",
    "        migracion = 10\n",
    "        self.individuos += [Individuo(random.randint(0, 50)) for _ in range(migracion)]\n",
    "\n",
    "    def poblacion_total(self):\n",
    "        return len(self.individuos)\n",
    "\n",
    "# Simulación\n",
    "comunidad = Comunidad(500)\n",
    "for año in range(10):\n",
    "    comunidad.paso_temporal()\n",
    "    print(f\"Año {año+1}: Población total = {comunidad.poblacion_total()}\")\n"
   ]
  },
  {
   "cell_type": "markdown",
   "metadata": {},
   "source": [
    "*Resumen y Análisis:*\n",
    "\n",
    "Inicio de la Simulación: La población inicial era de 500 individuos.\n",
    "\n",
    "Año 1: Se observa una disminución significativa en la población, llegando a 284 individuos. Esto puede ser el resultado de la mortalidad basada en la edad y la reducción de la tasa de reproducción debido a la alta densidad poblacional inicial.\n",
    "\n",
    "Años 2 y 3: La población sigue disminuyendo, lo que indica que la tasa de mortalidad sigue siendo más alta que la tasa de reproducción, a pesar de la migración neta positiva.\n",
    "\n",
    "Año 4: La población se estabiliza ligeramente, con un pequeño aumento. Esto puede ser el resultado de un equilibrio entre la tasa de reproducción y la tasa de mortalidad, junto con la migración.\n",
    "\n",
    "Años 5 a 10: Se observa un crecimiento constante y gradual de la población. Esto sugiere que la comunidad ha alcanzado un equilibrio donde la tasa de reproducción, ajustada por la densidad poblacional y la migración, supera la tasa de mortalidad.\n",
    "\n",
    "Tendencia General: Después de una disminución inicial en la población, la comunidad muestra signos de recuperación y crecimiento sostenido. Esto puede ser el resultado de la adaptación de la comunidad a las condiciones iniciales y la influencia de factores a nivel individual, local y global."
   ]
  },
  {
   "cell_type": "markdown",
   "metadata": {},
   "source": [
    "-----------\n",
    "\n",
    "##### **Preguntas**\n"
   ]
  },
  {
   "cell_type": "markdown",
   "metadata": {},
   "source": [
    "\n",
    "1. ¿Qué es el modelado multiescala y por qué es esencial para comprender sistemas complejos como el crecimiento de la población?\n",
    "\n",
    "El modelado multiescala se refiere a la técnica de modelar un sistema en diferentes escalas, desde la más pequeña (micro) hasta la más grande (macro). Es una poderosa técnica computacional que nos permite simular y analizar sistemas complejos en diferentes niveles de detalle, desde la escala atómica y molecular, hasta el nivel macroscópico.\n",
    "\n",
    "*obtenido de las presentación de Alberto\n",
    "\n"
   ]
  },
  {
   "cell_type": "markdown",
   "metadata": {},
   "source": [
    "2. Describe el modelo a nivel individual en esta simulación multiescala. ¿Qué factores se consideran a escala individual?\n",
    "\n",
    "El modelo a nivel individual en esta simulación multiescala se centra en el comportamiento y características de un único organismo. A esta escala, se consideran los siguientes factores:\n",
    "\n",
    "- **Edad**: La edad del individuo juega un papel crucial en las probabilidades tanto de reproducción como de mortalidad.\n",
    "\n",
    "- **Probabilidad de reproducción**: Esta probabilidad disminuye con la edad del individuo. Específicamente, la probabilidad inicial de reproducción se establece en 0.2 y disminuye en 0.01 por cada año de edad del individuo. Sin embargo, tiene un límite mínimo, y no disminuirá por debajo del 0.05, independientemente de la edad del individuo.\n",
    "\n",
    "- **Probabilidad de mortalidad**: Esta probabilidad aumenta con la edad del individuo. La probabilidad de que un individuo muera en un año determinado es igual al 0.02 multiplicado por su edad. Esto significa que, a medida que un individuo envejece, es más probable que muera.\n",
    "\n",
    "- **Envejecimiento**: Cada paso temporal (o \"año\" en la simulación) incrementa la edad del individuo en uno.\n",
    "\n",
    "Estos factores trabajan juntos para determinar si un individuo se reproduce, si muere y cómo cambia su probabilidad de hacerlo con el tiempo. Al considerar estos factores a nivel individual, el modelo puede capturar variabilidad en la población y simular de manera más realista cómo diferentes individuos contribuyen al crecimiento o disminucion de la poblacion."
   ]
  },
  {
   "cell_type": "markdown",
   "metadata": {},
   "source": [
    "3. Discuta el modelo a escala de comunidad local. ¿Cómo incorpora interacciones entre individuos y factores ambientales?\n",
    "\n",
    "\n",
    "En la simulación multiescala presentada, el modelo a escala de comunidad local se centra en cómo los individuos dentro de una comunidad interactúan entre sí y cómo la densidad poblacional afecta la dinámica de la comunidad. A continuación, se describen las características y factores considerados a esta escala:\n",
    "\n",
    "- **Densidad poblacional y capacidad de carga:** Si la población dentro de la comunidad supera un cierto umbral (en este caso, 1000 individuos), se realiza un ajuste para reducir la población. Específicamente, se toma una muestra aleatoria del 90% de la población actual, reduciendo así la población en un 10%. Este mecanismo puede simular la idea de capacidad de carga (un límite en el número de individuos que un ambiente puede soportar sin que se degrade). \n",
    "\n",
    "- **Interacción entre individuos:** Aunque no se modelan explícitamente interacciones individuales complejas, la dinámica de reproducción y mortalidad de cada individuo influye en la composición general y la estructura de edad de la comunidad. Por ejemplo, si muchos individuos en la comunidad son viejos y, por lo tanto, tienen una alta probabilidad de mortalidad y una baja probabilidad de reproducción, esto influirá en el crecimiento neto de la comunidad."
   ]
  },
  {
   "cell_type": "markdown",
   "metadata": {},
   "source": [
    "4. Explique el modelo a escala global. ¿Qué parámetros y factores se consideran al modelar toda la población mundial?\n",
    "\n",
    "En la simulación multiescala presentada, el modelo a escala global se simplifica bastante y se centra principalmente en la migración:\n",
    "\n",
    "- **Migración:** En el modelo, se asume una migración neta positiva hacia la comunidad, lo que significa que más individuos entran a la comunidad de los que salen. Esta migración se modela como un aumento fijo de 10 individuos en la comunidad cada año. Cada individuo que migra tiene una edad asignada aleatoriamente entre 0 y 50 años.\n",
    "\n",
    "A pesar de su simplicidad, este componente del modelo reconoce la importancia de los movimientos poblacionales de una comunidad. La migración puede influir en la demografía y la dinámica de la población de una comunidad, y puede ser causada por una variedad de factores, como búsqueda de recursos, cambios climáticos o eventos socioeconómicos.\n",
    "\n",
    "Sin embargo, es importante notar que, en un modelo más detallado del crecimiento poblacional a escala global, se considerarían muchos otros factores, como:\n",
    "\n",
    "- **Emigración:** Al igual que algunos individuos pueden migrar hacia una comunidad, otros pueden salir de ella. Esto podría modelarse con una tasa o número fijo, o podría variar según las condiciones de la comunidad.\n",
    "  \n",
    "- **Eventos globales:** Factores como desastres naturales, pandemias, guerras o cambios económicos y políticos pueden tener un impacto significativo en las tasas de migración y en la dinámica poblacional general.\n",
    "  \n",
    "- **Interacciones entre comunidades:** Las comunidades interactúan entre sí, y estas interacciones pueden influir en la dinámica de cada comunidad individual.\n",
    "\n",
    "- **Recursos y capacidad de carga global:** La disponibilidad global de recursos (como alimentos, agua, refugio) y la capacidad de carga del planeta o región también pueden afectar la dinámica poblacional."
   ]
  }
 ],
 "metadata": {
  "kernelspec": {
   "display_name": "Python 3",
   "language": "python",
   "name": "python3"
  },
  "language_info": {
   "codemirror_mode": {
    "name": "ipython",
    "version": 3
   },
   "file_extension": ".py",
   "mimetype": "text/x-python",
   "name": "python",
   "nbconvert_exporter": "python",
   "pygments_lexer": "ipython3",
   "version": "3.11.4"
  },
  "orig_nbformat": 4
 },
 "nbformat": 4,
 "nbformat_minor": 2
}
