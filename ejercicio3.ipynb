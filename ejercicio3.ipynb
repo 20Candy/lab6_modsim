{
 "cells": [
  {
   "cell_type": "markdown",
   "metadata": {},
   "source": [
    "### Laboratorio 6 - Ejercicio 1\n",
    "Stefano Aragoni, Carol Arévalo, Luis Santos, Diego Perdomo\n",
    "\n",
    "-----------"
   ]
  },
  {
   "cell_type": "markdown",
   "metadata": {},
   "source": [
    "`Ejercicio 3`\n",
    "\n",
    "Tiene la tarea de modelar el crecimiento de la población en múltiples escalas, desde organismos individuales hasta la población global. Para esto debe implementar un modelo multiescala en Python para analizar el crecimiento poblacional y su impacto"
   ]
  },
  {
   "cell_type": "markdown",
   "metadata": {},
   "source": [
    "-----------\n",
    "\n",
    "##### **Preguntas**\n"
   ]
  },
  {
   "cell_type": "markdown",
   "metadata": {},
   "source": [
    "\n",
    "*a. ¿Qué es el modelado multiescala y por qué es esencial para comprender sistemas complejos como el crecimiento de la población?*\n",
    "\n",
    "El modelado multiescala se refiere a la técnica de modelar un sistema en diferentes escalas, desde la más pequeña (micro) hasta la más grande (macro). Es una poderosa técnica computacional que nos permite simular y analizar sistemas complejos en diferentes niveles de detalle, desde la escala atómica y molecular, hasta el nivel macroscópico.\n",
    "\n",
    "*obtenido de las presentación de Alberto\n",
    "\n"
   ]
  },
  {
   "cell_type": "markdown",
   "metadata": {},
   "source": [
    "*b. Describe el modelo a nivel individual en esta simulación multiescala. ¿Qué factores se consideran a escala individual?*\n",
    "\n",
    "Edad: La capacidad reproductiva varía con la edad.\n",
    "Salud: La salud puede influir en la longevidad y la capacidad reproductiva.\n",
    "Entorno: Acceso a recursos, calidad de vida, etc.\n",
    "Tasa de reproducción: Número promedio de descendientes por individuo."
   ]
  },
  {
   "cell_type": "markdown",
   "metadata": {},
   "source": [
    "*c. Discuta el modelo a escala de comunidad local. ¿Cómo incorpora interacciones entre individuos y factores ambientales?*\n",
    "\n",
    "A nivel de comunidad local, el modelo podría considerar:\n",
    "\n",
    "Densidad poblacional: Afecta la competencia por recursos y puede influir en la tasa de reproducción.\n",
    "Recursos disponibles: Alimentos, agua, refugio, etc.\n",
    "Interacciones sociales: Como matrimonios, formación de familias, etc.\n",
    "Factores ambientales: Como desastres naturales, enfermedades, etc.\n",
    "Las interacciones entre individuos pueden modelarse a través de tasas de encuentro, formación de parejas y reproducción. Los factores ambientales pueden modelarse como eventos estocásticos que afectan la mortalidad o la natalidad."
   ]
  },
  {
   "cell_type": "markdown",
   "metadata": {},
   "source": [
    "*d. Explique el modelo a escala global. ¿Qué parámetros y factores se consideran al modelar toda la población mundial?*\n",
    "\n",
    "A nivel global, el modelo podría considerar:\n",
    "\n",
    "Migraciones: Movimientos de poblaciones entre regiones o países.\n",
    "Políticas gubernamentales: Políticas de control de natalidad, salud pública, etc.\n",
    "Catástrofes globales: Guerras, pandemias, grandes desastres naturales.\n",
    "Tendencias económicas y tecnológicas: Que pueden influir en la calidad de vida y la tasa de reproducción.\n"
   ]
  },
  {
   "cell_type": "markdown",
   "metadata": {},
   "source": [
    "-----------\n",
    "\n",
    "##### **Modelación**\n",
    "\n",
    "Modelo Multiescala Simple para el Crecimiento Poblacional:\n",
    "\n",
    "Nivel individual: Cada individuo tiene una probabilidad de reproducción y una probabilidad de mortalidad basadas en su edad.\n",
    "\n",
    "Nivel de comunidad local: La tasa de reproducción se ajusta según la densidad poblacional.\n",
    "\n",
    "Nivel global: Se ajustan las tasas de crecimiento según las migraciones."
   ]
  },
  {
   "cell_type": "code",
   "execution_count": 1,
   "metadata": {},
   "outputs": [
    {
     "name": "stdout",
     "output_type": "stream",
     "text": [
      "Año 1: Población total = 284\n",
      "Año 2: Población total = 221\n",
      "Año 3: Población total = 202\n",
      "Año 4: Población total = 205\n",
      "Año 5: Población total = 217\n",
      "Año 6: Población total = 230\n",
      "Año 7: Población total = 252\n",
      "Año 8: Población total = 269\n",
      "Año 9: Población total = 277\n",
      "Año 10: Población total = 295\n"
     ]
    }
   ],
   "source": [
    "import random\n",
    "\n",
    "class Individuo:\n",
    "    def __init__(self, edad):\n",
    "        self.edad = edad\n",
    "\n",
    "    def reproducir(self):\n",
    "        # Probabilidad de reproducción disminuye con la edad\n",
    "        prob_reproduccion = max(0.2 - self.edad * 0.01, 0.05)\n",
    "        return random.random() < prob_reproduccion\n",
    "\n",
    "    def morir(self):\n",
    "        # Probabilidad de mortalidad aumenta con la edad\n",
    "        prob_mortalidad = self.edad * 0.02\n",
    "        return random.random() < prob_mortalidad\n",
    "\n",
    "    def envejecer(self):\n",
    "        self.edad += 1\n",
    "\n",
    "class Comunidad:\n",
    "    def __init__(self, poblacion_inicial):\n",
    "        self.individuos = [Individuo(random.randint(0, 50)) for _ in range(poblacion_inicial)]\n",
    "\n",
    "    def paso_temporal(self):\n",
    "        # Nivel individual\n",
    "        nuevos_individuos = []\n",
    "        for individuo in self.individuos:\n",
    "            individuo.envejecer()\n",
    "            if individuo.reproducir():\n",
    "                nuevos_individuos.append(Individuo(0))\n",
    "            if not individuo.morir():\n",
    "                nuevos_individuos.append(individuo)\n",
    "        self.individuos = nuevos_individuos\n",
    "\n",
    "        # Nivel de comunidad local\n",
    "        if len(self.individuos) > 1000:\n",
    "            # Reducir la tasa de reproducción si la población es muy alta\n",
    "            self.individuos = random.sample(self.individuos, int(len(self.individuos) * 0.9))\n",
    "\n",
    "        # Nivel global (simplificado)\n",
    "        # Supongamos que hay una migración neta de 10 individuos cada año\n",
    "        migracion = 10\n",
    "        self.individuos += [Individuo(random.randint(0, 50)) for _ in range(migracion)]\n",
    "\n",
    "    def poblacion_total(self):\n",
    "        return len(self.individuos)\n",
    "\n",
    "# Simulación\n",
    "comunidad = Comunidad(500)\n",
    "for año in range(10):\n",
    "    comunidad.paso_temporal()\n",
    "    print(f\"Año {año+1}: Población total = {comunidad.poblacion_total()}\")\n"
   ]
  },
  {
   "cell_type": "markdown",
   "metadata": {},
   "source": [
    "*Resumen y Análisis:*\n",
    "\n",
    "Inicio de la Simulación: La población inicial era de 500 individuos.\n",
    "\n",
    "Año 1: Se observa una disminución significativa en la población, llegando a 284 individuos. Esto puede ser el resultado de la mortalidad basada en la edad y la reducción de la tasa de reproducción debido a la alta densidad poblacional inicial.\n",
    "\n",
    "Años 2 y 3: La población sigue disminuyendo, lo que indica que la tasa de mortalidad sigue siendo más alta que la tasa de reproducción, a pesar de la migración neta positiva.\n",
    "\n",
    "Año 4: La población se estabiliza ligeramente, con un pequeño aumento. Esto puede ser el resultado de un equilibrio entre la tasa de reproducción y la tasa de mortalidad, junto con la migración.\n",
    "\n",
    "Años 5 a 10: Se observa un crecimiento constante y gradual de la población. Esto sugiere que la comunidad ha alcanzado un equilibrio donde la tasa de reproducción, ajustada por la densidad poblacional y la migración, supera la tasa de mortalidad.\n",
    "\n",
    "Tendencia General: Después de una disminución inicial en la población, la comunidad muestra signos de recuperación y crecimiento sostenido. Esto puede ser el resultado de la adaptación de la comunidad a las condiciones iniciales y la influencia de factores a nivel individual, local y global."
   ]
  }
 ],
 "metadata": {
  "kernelspec": {
   "display_name": "Python 3",
   "language": "python",
   "name": "python3"
  },
  "language_info": {
   "codemirror_mode": {
    "name": "ipython",
    "version": 3
   },
   "file_extension": ".py",
   "mimetype": "text/x-python",
   "name": "python",
   "nbconvert_exporter": "python",
   "pygments_lexer": "ipython3",
   "version": "3.11.4"
  },
  "orig_nbformat": 4
 },
 "nbformat": 4,
 "nbformat_minor": 2
}
